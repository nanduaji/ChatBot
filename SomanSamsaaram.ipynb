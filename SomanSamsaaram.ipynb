{
 "cells": [
  {
   "cell_type": "code",
   "execution_count": null,
   "metadata": {},
   "outputs": [],
   "source": [
    "import pandas as pd\n",
    "import numpy as np\n",
    "import re\n",
    "\n",
    "def controller(sugu):\n",
    "    data = pd.read_csv('Bot_Customization.txt', sep='\\t',encoding='ANSI')\n",
    "    #print(data)\n",
    "    #if(re.search(sugu,data['Scenario'])):\n",
    "    data=data[data['Scenario']==sugu]\n",
    "    print(data)\n",
    "    \n",
    "    \n"
   ]
  },
  {
   "cell_type": "code",
   "execution_count": null,
   "metadata": {},
   "outputs": [],
   "source": [
    "controller('Bot_BodyFunctions')"
   ]
  },
  {
   "cell_type": "code",
   "execution_count": null,
   "metadata": {},
   "outputs": [],
   "source": [
    "from sklearn.ensemble import RandomForestClassifier\n",
    "from sklearn.model_selection import train_test_split\n",
    "from sklearn.preprocessing import LabelEncoder\n",
    "from sklearn.metrics import confusion_matrix,accuracy_score"
   ]
  },
  {
   "cell_type": "code",
   "execution_count": null,
   "metadata": {},
   "outputs": [],
   "source": [
    "\n",
    "#def model():\n",
    "data = pd.read_csv('Bot_Customization.txt', sep='\\t',encoding='ANSI')\n",
    "#enc = OneHotEncoder(handle_unknown='ignore')\n",
    "le = LabelEncoder()\n",
    "data=data.apply(le.fit_transform)\n",
    "# print(data)\n",
    "X=data['Scenario']\n",
    "X=np.array(X).reshape(-1,1)\n",
    "y=data['Response']\n",
    "y=np.array(y).ravel()\n",
    "print(X,y)\n",
    "X_train,X_test,y_train,y_test=train_test_split(X,y,test_size=0.2,random_state=42)\n",
    "clf = RandomForestClassifier(n_estimators=100, max_depth=300, random_state=0)\n",
    "clf.fit(X,y)\n",
    "\n",
    "\n",
    "\n",
    "    \n",
    "    \n",
    "    "
   ]
  },
  {
   "cell_type": "code",
   "execution_count": null,
   "metadata": {},
   "outputs": [],
   "source": [
    "out=clf.predict(X_test)"
   ]
  },
  {
   "cell_type": "code",
   "execution_count": null,
   "metadata": {},
   "outputs": [],
   "source": [
    "accuracy_score(y_test,out)"
   ]
  },
  {
   "cell_type": "code",
   "execution_count": null,
   "metadata": {},
   "outputs": [],
   "source": []
  }
 ],
 "metadata": {
  "kernelspec": {
   "display_name": "Python 3",
   "language": "python",
   "name": "python3"
  },
  "language_info": {
   "codemirror_mode": {
    "name": "ipython",
    "version": 3
   },
   "file_extension": ".py",
   "mimetype": "text/x-python",
   "name": "python",
   "nbconvert_exporter": "python",
   "pygments_lexer": "ipython3",
   "version": "3.7.3"
  }
 },
 "nbformat": 4,
 "nbformat_minor": 2
}
